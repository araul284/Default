{
 "cells": [
  {
   "cell_type": "code",
   "execution_count": 2,
   "id": "8d029059",
   "metadata": {},
   "outputs": [],
   "source": [
    "set_example = {1, 1, 2, 3, 3, 3}\n",
    "# {1, 2, 3}\n",
    "\n",
    "fruit_set = {'🍎', '🍓', '🍐', '🍎', '🍎', '🍓'}\n",
    "# {'🍎', '🍐', '🍓'}\n"
   ]
  },
  {
   "cell_type": "code",
   "execution_count": 4,
   "id": "1715e8f2",
   "metadata": {},
   "outputs": [
    {
     "data": {
      "text/plain": [
       "{'🍎': 12, '🍇': 20, '🍐': 16}"
      ]
     },
     "execution_count": 4,
     "metadata": {},
     "output_type": "execute_result"
    }
   ],
   "source": [
    "# Example in Python 3.5\n",
    "\n",
    "fruit_size = {} \n",
    "fruit_size['🍎'] = 12 \n",
    "fruit_size['🍐'] = 16 \n",
    "fruit_size['🍇'] = 20 \n",
    "fruit_size\n",
    "{'🍎': 12, '🍇': 20, '🍐': 16}\n"
   ]
  },
  {
   "cell_type": "code",
   "execution_count": null,
   "id": "809ed2d2",
   "metadata": {},
   "outputs": [],
   "source": []
  }
 ],
 "metadata": {
  "kernelspec": {
   "display_name": "Python 3",
   "language": "python",
   "name": "python3"
  },
  "language_info": {
   "codemirror_mode": {
    "name": "ipython",
    "version": 3
   },
   "file_extension": ".py",
   "mimetype": "text/x-python",
   "name": "python",
   "nbconvert_exporter": "python",
   "pygments_lexer": "ipython3",
   "version": "3.13.7"
  }
 },
 "nbformat": 4,
 "nbformat_minor": 5
}
